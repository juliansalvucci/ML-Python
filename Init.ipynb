{
  "nbformat": 4,
  "nbformat_minor": 0,
  "metadata": {
    "colab": {
      "name": "Init.ipynb",
      "provenance": [],
      "authorship_tag": "ABX9TyNGuyS0ehLLKIQIqV6nxSvP",
      "include_colab_link": true
    },
    "kernelspec": {
      "name": "python3",
      "display_name": "Python 3"
    },
    "language_info": {
      "name": "python"
    }
  },
  "cells": [
    {
      "cell_type": "markdown",
      "metadata": {
        "id": "view-in-github",
        "colab_type": "text"
      },
      "source": [
        "<a href=\"https://colab.research.google.com/github/juliansalvucci/ML-Python/blob/main/Init.ipynb\" target=\"_parent\"><img src=\"https://colab.research.google.com/assets/colab-badge.svg\" alt=\"Open In Colab\"/></a>"
      ]
    },
    {
      "cell_type": "markdown",
      "source": [
        "Tutorial Pandas."
      ],
      "metadata": {
        "id": "zVwnR_UMs-i4"
      }
    },
    {
      "cell_type": "code",
      "execution_count": null,
      "metadata": {
        "id": "yzYHV47ysoBI"
      },
      "outputs": [],
      "source": [
        "import pandas as pd\n",
        "import matplotlib.pyplot as plt\n"
      ]
    },
    {
      "cell_type": "code",
      "source": [
        "data = pd.read_csv('car.csv', header = None) #Importo la data desde el archivo .csv, header=none porque no tiene primera fila.\n"
      ],
      "metadata": {
        "id": "WYJiLRdsuGAq"
      },
      "execution_count": null,
      "outputs": []
    },
    {
      "cell_type": "code",
      "source": [
        "#Cabeceras de conjunto de datos.\n",
        "data.columns = ['Price','Maintenence Cost', 'Number de Doors', 'Capacity', 'Size of Luggage Boot','Safety','Decision']"
      ],
      "metadata": {
        "id": "yLWyyKScujiI"
      },
      "execution_count": null,
      "outputs": []
    },
    {
      "cell_type": "code",
      "source": [
        "data.head(5) #Mostrar los primeros 5 registros."
      ],
      "metadata": {
        "id": "IjhiKH4JvRzn"
      },
      "execution_count": null,
      "outputs": []
    },
    {
      "cell_type": "code",
      "source": [
        "data.sample(5) #Mostrar 5 registros de manera aleatoria."
      ],
      "metadata": {
        "id": "GfsY8igYvXwJ"
      },
      "execution_count": null,
      "outputs": []
    },
    {
      "cell_type": "code",
      "source": [
        "data.tail(5) #Mostrar los ultimos 5 registros."
      ],
      "metadata": {
        "id": "RPx0ymDrt0ub"
      },
      "execution_count": null,
      "outputs": []
    },
    {
      "cell_type": "code",
      "source": [
        "data.shape() #mostrar cantidad de atributos y cantidad de ejemplos o registros."
      ],
      "metadata": {
        "id": "I1xXGzUZuKG-"
      },
      "execution_count": null,
      "outputs": []
    },
    {
      "cell_type": "code",
      "source": [
        "data.Size() "
      ],
      "metadata": {
        "id": "aNqe_OeVuYlM"
      },
      "execution_count": null,
      "outputs": []
    },
    {
      "cell_type": "code",
      "source": [
        "data['Price'].head(5) #Mostrar los primeros 5 registros de la columna Price"
      ],
      "metadata": {
        "id": "StirB-dfueH-"
      },
      "execution_count": null,
      "outputs": []
    },
    {
      "cell_type": "code",
      "source": [
        "data['Price'][:3] #Establecer rango, de 0 a 2."
      ],
      "metadata": {
        "id": "bnK_pHu1vC3t"
      },
      "execution_count": null,
      "outputs": []
    },
    {
      "cell_type": "code",
      "source": [
        "data[['Price', 'Desicion']].tail()"
      ],
      "metadata": {
        "id": "ySWYnjpGvYs7"
      },
      "execution_count": null,
      "outputs": []
    },
    {
      "cell_type": "code",
      "source": [
        "data['Desicion'].value_counts().sort_index(ascending = True)"
      ],
      "metadata": {
        "id": "F9pyl1ykYkLM"
      },
      "execution_count": null,
      "outputs": []
    },
    {
      "cell_type": "code",
      "source": [
        "decision = data['Desicion'].value_counts()"
      ],
      "metadata": {
        "id": "7MTjsQjpZC8W"
      },
      "execution_count": null,
      "outputs": []
    },
    {
      "cell_type": "code",
      "source": [
        "decision.plot(kind = 'bar') #Graficar mediante gráficos de barras"
      ],
      "metadata": {
        "id": "zAJ1UH9NZbtU"
      },
      "execution_count": null,
      "outputs": []
    },
    {
      "cell_type": "code",
      "source": [
        "data['Price'].unique() #Muestra valores de la columna sin duplicados."
      ],
      "metadata": {
        "id": "j98TqTL5Zv3E"
      },
      "execution_count": null,
      "outputs": []
    },
    {
      "cell_type": "code",
      "source": [
        "data['Price'].replace(('vhigh','high', 'med','low'), [4,3,2,1], inplace = True) #Reemplazar valores de categorías por datos numéticos"
      ],
      "metadata": {
        "id": "Axgn-tfUZ7es"
      },
      "execution_count": null,
      "outputs": []
    },
    {
      "cell_type": "code",
      "source": [
        "price = data['Price'].value_counts()"
      ],
      "metadata": {
        "id": "L-PRvfzTackE"
      },
      "execution_count": null,
      "outputs": []
    },
    {
      "cell_type": "code",
      "source": [
        "colors = ['#DDEE01','#CC0101','#FE10D1','#BCC111'] #Definir colores.\n",
        "price.plot(kind = 'bar', color = colors) #Crear gráfica.\n",
        "plt.xlabel('Precio') #Asignar nombre variable x.\n",
        "plt.ylabel('Autos') #Asignar nombre variable y.\n",
        "plt.title('Precios de los autos') #Asignar título."
      ],
      "metadata": {
        "id": "x0RfsG4Uaiv0"
      },
      "execution_count": 2,
      "outputs": []
    },
    {
      "cell_type": "code",
      "source": [
        "data['Safety'].value_counts() "
      ],
      "metadata": {
        "id": "6Ny_HL1qbf9N"
      },
      "execution_count": null,
      "outputs": []
    },
    {
      "cell_type": "code",
      "source": [
        "labels = ['low', 'med','high'] #Etiquetas para el gráfico de torta"
      ],
      "metadata": {
        "id": "RRoDzTUjboX0"
      },
      "execution_count": null,
      "outputs": []
    },
    {
      "cell_type": "code",
      "source": [
        "size = [576, 576, 576] #Tamaño del gráfico.\n",
        "colors = ['cyan','grey','orange']\n",
        "explode = [0,0,0] #Espacio entre porciones."
      ],
      "metadata": {
        "id": "DfTyEvqkby3l"
      },
      "execution_count": 3,
      "outputs": []
    },
    {
      "cell_type": "code",
      "source": [
        "plt.pie(size, labels = labels, colors = colors, explode = explode, shadow = True, autopct = '%.2f%%') #Mostrar 2 decimales solamente.\n",
        "plt.title('Niveles de seguridad', fontSize = 10) #Título de la gráfica.\n",
        "plt.axis('off')\n",
        "plt.legend(loc = 'best') #Localizar los textos en la mejor posición.\n",
        "plt.show()"
      ],
      "metadata": {
        "id": "JzHRoqGzcT9k"
      },
      "execution_count": null,
      "outputs": []
    },
    {
      "cell_type": "markdown",
      "source": [
        ""
      ],
      "metadata": {
        "id": "0SQoEZQFZbcU"
      }
    }
  ]
}