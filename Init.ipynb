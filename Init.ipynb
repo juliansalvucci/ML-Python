{
  "nbformat": 4,
  "nbformat_minor": 0,
  "metadata": {
    "colab": {
      "name": "Init.ipynb",
      "provenance": [],
      "authorship_tag": "ABX9TyM2+jJa6mNICvEOim1BkwMx",
      "include_colab_link": true
    },
    "kernelspec": {
      "name": "python3",
      "display_name": "Python 3"
    },
    "language_info": {
      "name": "python"
    }
  },
  "cells": [
    {
      "cell_type": "markdown",
      "metadata": {
        "id": "view-in-github",
        "colab_type": "text"
      },
      "source": [
        "<a href=\"https://colab.research.google.com/github/juliansalvucci/ML-Python/blob/main/Init.ipynb\" target=\"_parent\"><img src=\"https://colab.research.google.com/assets/colab-badge.svg\" alt=\"Open In Colab\"/></a>"
      ]
    },
    {
      "cell_type": "markdown",
      "source": [
        "Tutorial Pandas."
      ],
      "metadata": {
        "id": "zVwnR_UMs-i4"
      }
    },
    {
      "cell_type": "code",
      "execution_count": null,
      "metadata": {
        "id": "yzYHV47ysoBI"
      },
      "outputs": [],
      "source": [
        "import pandas as pd\n",
        "import matplotlib.pyplot as plt\n"
      ]
    },
    {
      "cell_type": "code",
      "source": [
        "data = pd.read_csv('car.csv', header = None) #Importo la data desde el archivo .csv, header=none porque no tiene primera fila.\n"
      ],
      "metadata": {
        "id": "WYJiLRdsuGAq"
      },
      "execution_count": null,
      "outputs": []
    },
    {
      "cell_type": "code",
      "source": [
        "#Cabeceras de conjunto de datos.\n",
        "data.columns = ['Price','Maintenence Cost', 'Number de Doors', 'Capacity', 'Size of Luggage Boot','Safety','Decision']"
      ],
      "metadata": {
        "id": "yLWyyKScujiI"
      },
      "execution_count": null,
      "outputs": []
    },
    {
      "cell_type": "code",
      "source": [
        "data.head(5) #Mostrar los primeros 5 registros."
      ],
      "metadata": {
        "id": "IjhiKH4JvRzn"
      },
      "execution_count": null,
      "outputs": []
    },
    {
      "cell_type": "code",
      "source": [
        "data.sample(5) #Mostrar 5 registros de manera aleatoria."
      ],
      "metadata": {
        "id": "GfsY8igYvXwJ"
      },
      "execution_count": null,
      "outputs": []
    },
    {
      "cell_type": "code",
      "source": [
        "data.tail(5) #Mostrar los ultimos 5 registros."
      ],
      "metadata": {
        "id": "RPx0ymDrt0ub"
      },
      "execution_count": null,
      "outputs": []
    },
    {
      "cell_type": "code",
      "source": [
        "data.shape() #mostrar cantidad de atributos y cantidad de ejemplos o registros."
      ],
      "metadata": {
        "id": "I1xXGzUZuKG-"
      },
      "execution_count": null,
      "outputs": []
    },
    {
      "cell_type": "code",
      "source": [
        "data.Size() "
      ],
      "metadata": {
        "id": "aNqe_OeVuYlM"
      },
      "execution_count": null,
      "outputs": []
    },
    {
      "cell_type": "code",
      "source": [
        "data['Price'].head(5) #Mostrar los primeros 5 registros de la columna Price"
      ],
      "metadata": {
        "id": "StirB-dfueH-"
      },
      "execution_count": null,
      "outputs": []
    },
    {
      "cell_type": "code",
      "source": [
        "data['Price'][:3] #Establecer rango, de 0 a 2."
      ],
      "metadata": {
        "id": "bnK_pHu1vC3t"
      },
      "execution_count": null,
      "outputs": []
    },
    {
      "cell_type": "code",
      "source": [
        "data[['Price', 'Desicion']].tail()"
      ],
      "metadata": {
        "id": "ySWYnjpGvYs7"
      },
      "execution_count": null,
      "outputs": []
    }
  ]
}